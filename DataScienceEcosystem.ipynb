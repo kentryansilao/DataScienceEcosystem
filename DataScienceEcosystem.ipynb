{
 "cells": [
  {
   "cell_type": "raw",
   "id": "60d34230-97bf-4968-89ba-28e494bcb2ef",
   "metadata": {},
   "source": [
    "Exercise 2: Create markdown cell with title of the notebook"
   ]
  },
  {
   "cell_type": "code",
   "execution_count": 14,
   "id": "6809be35-fa39-49b3-82d0-418406ddca6b",
   "metadata": {
    "tags": []
   },
   "outputs": [],
   "source": [
    "# Data Science Tools and Ecosystem"
   ]
  },
  {
   "cell_type": "markdown",
   "id": "b610fd63-eed6-4f0f-82d2-1389c8fa70a6",
   "metadata": {},
   "source": [
    "# Data Science Tools and Ecosystem"
   ]
  },
  {
   "cell_type": "raw",
   "id": "b6aa7590-93a6-486a-b719-b4f77189eb7d",
   "metadata": {},
   "source": [
    "Exercise 3 - Create a markdown cell for an introduction"
   ]
  },
  {
   "cell_type": "markdown",
   "id": "749806cb-34e9-413e-b76f-e3ac1b6f924e",
   "metadata": {},
   "source": [
    "In this notebook, Data Science Tools and Ecosystem are summarized."
   ]
  },
  {
   "cell_type": "raw",
   "id": "3b2e24b7-3b34-4c45-be08-cd93b22f3007",
   "metadata": {},
   "source": [
    "Exercise 4 - Create a markdown cell to list data science languages."
   ]
  },
  {
   "cell_type": "markdown",
   "id": "e60e1a0f-66e1-477c-9d09-2383cffa0e19",
   "metadata": {},
   "source": [
    "Some of the popular languages that Data Scientists use are:\n",
    "1. Python\n",
    "2. Java\n",
    "3. R"
   ]
  },
  {
   "cell_type": "raw",
   "id": "66db5378-1dbe-4fd2-90d2-f80c583f0729",
   "metadata": {},
   "source": [
    "Exercise 5 - Create a markdown cell to list data science libraries"
   ]
  },
  {
   "cell_type": "markdown",
   "id": "3d85270a-9f07-4fd4-bc05-9a8297f6b1eb",
   "metadata": {},
   "source": [
    "Some of the commonly used libraries used by Data Scientists include:\n",
    "1. Pandas\n",
    "2. NumPy\n",
    "3. SciPy\n",
    "4. Matplotlib"
   ]
  },
  {
   "cell_type": "raw",
   "id": "b2eba93b-4e88-4e18-918f-b78055c5c2d6",
   "metadata": {},
   "source": [
    "Exercise 6 - Create a markdown cell with a table of Data Science tools"
   ]
  },
  {
   "cell_type": "raw",
   "id": "87acebe3-2b32-4272-8aa0-379c88bae6e1",
   "metadata": {},
   "source": [
    "| Data Science Tools |\n",
    "| ------------- |\n",
    "| RStudio |\n",
    "| Apache Spark |\n",
    "| TensorFlow |\n",
    "| Apache Hadoop |"
   ]
  },
  {
   "cell_type": "markdown",
   "id": "0467462a-5db2-47b9-870e-79341c556cce",
   "metadata": {
    "tags": []
   },
   "source": [
    "| Data Science Tools |\n",
    "| ------------- |\n",
    "| RStudio |\n",
    "| Apache Spark |\n",
    "| TensorFlow |\n",
    "| Apache Hadoop |"
   ]
  },
  {
   "cell_type": "raw",
   "id": "c931a8f1-d122-432d-9748-78cb0078b83c",
   "metadata": {},
   "source": [
    "Exercise 7 - Create a markdown cell introducing arithmetic expression examples"
   ]
  },
  {
   "cell_type": "raw",
   "id": "0809e5df-ec9f-423e-aefc-e1a5e0e6a640",
   "metadata": {},
   "source": [
    "### Below are a few examples of evaluating arithmetic expressions in Python"
   ]
  },
  {
   "cell_type": "markdown",
   "id": "422a8667-4587-4f88-9a09-ef53430544fa",
   "metadata": {
    "tags": []
   },
   "source": [
    "### Below are a few examples of evaluating arithmetic expressions in Python"
   ]
  },
  {
   "cell_type": "raw",
   "id": "ff9668b8-e1b4-4030-b35f-08a4fbf704e0",
   "metadata": {},
   "source": [
    "Exercise 8 - Create a code cell to multiply and add numbers"
   ]
  },
  {
   "cell_type": "code",
   "execution_count": 9,
   "id": "91a1f458-6ada-400d-8ec1-c0fcc6455ecf",
   "metadata": {
    "tags": []
   },
   "outputs": [
    {
     "data": {
      "text/plain": [
       "17"
      ]
     },
     "execution_count": 9,
     "metadata": {},
     "output_type": "execute_result"
    }
   ],
   "source": [
    "# This a simple arithmetic expression to mutiply then add integers\n",
    "(3*4)+5"
   ]
  },
  {
   "cell_type": "raw",
   "id": "0fbd4213-c3b9-45d1-99c4-188c46130b64",
   "metadata": {},
   "source": [
    "Exercise 9 - Create a code cell to convert minutes to hours"
   ]
  },
  {
   "cell_type": "code",
   "execution_count": 12,
   "id": "a545fbb0-870e-471b-b370-af169be5d859",
   "metadata": {
    "tags": []
   },
   "outputs": [
    {
     "data": {
      "text/plain": [
       "3.3333333333333335"
      ]
     },
     "execution_count": 12,
     "metadata": {},
     "output_type": "execute_result"
    }
   ],
   "source": [
    "# This will convert 200 minutes to hours by diving by 60\n",
    "200 / 60"
   ]
  },
  {
   "cell_type": "raw",
   "id": "7530b0de-32eb-4ab8-8b2a-3a60d08edd4e",
   "metadata": {},
   "source": [
    "Exercise 10 - Insert a markdown cell to list Objectives"
   ]
  },
  {
   "cell_type": "markdown",
   "id": "f20f5324-0a64-4c46-bc52-7a808fc5b8dc",
   "metadata": {},
   "source": [
    "In this notebook, Data Science Tools and Ecosystem are summarized."
   ]
  },
  {
   "cell_type": "markdown",
   "id": "19a7a464-88b4-44af-b4d2-94ef13ce1619",
   "metadata": {},
   "source": [
    "***Objectives:***\n",
    "\n",
    "List popular languages for Data Science\n",
    "- Python\n",
    "- Java\n",
    "- R"
   ]
  },
  {
   "cell_type": "raw",
   "id": "80894d35-9a0b-41e1-8061-658844917bdc",
   "metadata": {},
   "source": [
    "Exercise 11 - Create a markdown cell to indicate the Author's name"
   ]
  },
  {
   "cell_type": "markdown",
   "id": "b797acaa-53c2-4229-b693-40ae677f958c",
   "metadata": {},
   "source": [
    "## Author \n",
    "Kent Ryan C. Silao"
   ]
  },
  {
   "cell_type": "markdown",
   "id": "7658fd02-6cb4-487a-a94e-b6b088a1ceb3",
   "metadata": {
    "tags": []
   },
   "source": [
    "## Author \n",
    "Kent Ryan C. Silao"
   ]
  },
  {
   "cell_type": "code",
   "execution_count": null,
   "id": "5c0499b6-e4ab-4703-a401-01c03c7ec64c",
   "metadata": {},
   "outputs": [],
   "source": []
  }
 ],
 "metadata": {
  "kernelspec": {
   "display_name": "Python",
   "language": "python",
   "name": "conda-env-python-py"
  },
  "language_info": {
   "codemirror_mode": {
    "name": "ipython",
    "version": 3
   },
   "file_extension": ".py",
   "mimetype": "text/x-python",
   "name": "python",
   "nbconvert_exporter": "python",
   "pygments_lexer": "ipython3",
   "version": "3.7.12"
  }
 },
 "nbformat": 4,
 "nbformat_minor": 5
}
